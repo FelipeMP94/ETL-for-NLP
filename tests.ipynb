{
 "cells": [
  {
   "cell_type": "code",
   "execution_count": 1,
   "id": "eaaa9a3f",
   "metadata": {},
   "outputs": [],
   "source": [
    "import requests\n",
    "from bs4 import BeautifulSoup\n",
    "\n",
    "def prepare_links():\n",
    "    arq = open('Dados\\links.txt')\n",
    "    links = []\n",
    "    for line in arq.readlines():\n",
    "        line = line.replace('\\n','')\n",
    "        links.append(line)\n",
    "    links.pop(0)\n",
    "    return links\n",
    "\n",
    "def get_html(link):\n",
    "    while True:\n",
    "        try:\n",
    "            response = requests.get(link)\n",
    "            return response\n",
    "        except ConnectionError:\n",
    "            pass\n",
    "            \n",
    "    \n"
   ]
  },
  {
   "cell_type": "code",
   "execution_count": 2,
   "id": "b8216d7d",
   "metadata": {},
   "outputs": [
    {
     "data": {
      "text/plain": [
       "'for link in links:\\n    response = get_html(link)\\n    soup = BeautifulSoup(response.text)\\n    tag = soup.section\\n    name = tag.strong.string\\n    names.append(name)\\n'"
      ]
     },
     "execution_count": 2,
     "metadata": {},
     "output_type": "execute_result"
    }
   ],
   "source": [
    "\n",
    "'''for link in links:\n",
    "    response = get_html(link)\n",
    "    soup = BeautifulSoup(response.text)\n",
    "    tag = soup.section\n",
    "    name = tag.strong.string\n",
    "    names.append(name)\n",
    "'''\n"
   ]
  },
  {
   "cell_type": "code",
   "execution_count": null,
   "id": "f67ff398",
   "metadata": {},
   "outputs": [],
   "source": []
  },
  {
   "cell_type": "code",
   "execution_count": 3,
   "id": "74a5b0ec",
   "metadata": {},
   "outputs": [],
   "source": [
    "#test = ''\n",
    "#for string in tag.stripped_strings:\n",
    "  #  test = test + '/n'+ string"
   ]
  },
  {
   "cell_type": "code",
   "execution_count": 4,
   "id": "a93eb6ce",
   "metadata": {},
   "outputs": [],
   "source": [
    "#print(tag.stripped_strings)"
   ]
  },
  {
   "cell_type": "code",
   "execution_count": 5,
   "id": "6845b864",
   "metadata": {},
   "outputs": [],
   "source": [
    "texts_in_jason = []\n",
    "links = ['https://emdefesadocomunismo.com.br/uma-proposta-sobre-nossos-simbolos/']\n",
    "for link in links:\n",
    "    response = get_html(link)\n",
    "    soup = BeautifulSoup(response.text)\n",
    "    tag = soup.section\n",
    "    count = 0\n",
    "    text = {'autor':0,\n",
    "           'content': ''}\n",
    "    for string in tag.stripped_strings:\n",
    "        if count == 1:\n",
    "            text['autor'] = string\n",
    "        elif count > 3:\n",
    "            text['content'] =text['content']+ string +'/n'\n",
    "        count+=1\n",
    "    texts_in_jason.append(text)\n",
    "        \n",
    "    \n"
   ]
  },
  {
   "cell_type": "code",
   "execution_count": 6,
   "id": "4127bdf6",
   "metadata": {},
   "outputs": [
    {
     "name": "stdout",
     "output_type": "stream",
     "text": [
      "[{'autor': 'William Fogo', 'content': 'Camaradas, apesar de eu mesmo considerar que há questões mais urgentes e fundamentais para se discutir nas nossas teses para a preparação do XVII Congresso, não me furtei de compartilhar uma proposta sobre nosso nome e símbolos./nPrimeiramente, a alteração total de nome é algo considero sem base e não será isso que fará nós nos tornarmos um partido que represente as necessidades e as lutas da maioria trabalhadora dos brasileiros. Isso somente ocorrerá através da nossa teoria e prática constantes, realizando sempre avaliações, balanços e autocríticas. Aliás, alterar o nome seria negar nossa História e nossa luta. Manter o Partido Comunista Brasileiro é continuar um legado de mais de 100 anos no país, com todos seus acertos, erros e contradições ao longo do último século. E achamos risíveis sugestões como Palmares, Liga Comunista e afins./nÉ importante pontuar que, desde a dissolução da União Soviética, algumas ex-repúblicas socialistas européias, que sofreram com a contrarrevolução e o crescimento da extrema-direita e do anticomunismo, aprovaram leis que baniram ou criminalizaram símbolos e até mesmo a promoção do comunismo, igualando-as ao nazi-fascismo, o que inclui a demolição de estátuas públicas, alteração de nomes de parques e ruas. Assim são nos casos de banimento total na Lituânia e Letônia; Na Ucrânia (pós Euromaidan e início da Guerra na Ucrânia em 2014) além dos símbolos, todos os partidos comunistas foram proibidos; Vemos isso também na resolução aprovada pelo Parlamento Europeu em 2019 que demonstra \"preocupação\" com a existência de monumentos e memoriais que \"glorificam regimes totalitários\"; Na Polônia é proibida a promoção de \"ideias comunistas\"; Na Alemanha a bandeira da República Democrática Alemã (Alemanha Oriental) é proibida e considerada inconstitucional, assim como a bandeira e o emblema do Partido Comunista da Alemanha (KPD) são considerados símbolos terroristas no código penal; Na Coréia ocupada (também conhecida como Coréia do Sul) é proibida a bandeira da Coréia Popular ou do Partido dos Trabalhadores da Coréia; E o caso mais duradouro, que poucos conhecem, é o banimento e criminalização na Indonésia: entre 1965 e 1966, sob comando de Suharto e com apoio direto dos governos dos EUA e Reino Unido, mais de 1 milhão de pessoas foram assassinadas pelo exército e por esquadrões da morte por serem membros, ou acusadas de envolvimento, com Partido Comunista da Indonésia (PKI). Desde então, qualquer símbolo comunista é estritamente proibido e seu uso leva à prisão./nNo Brasil, tramita desde 2016 a proposta do deputado federal Eduardo Bolsonaro (PL) que visa \"criminalizar a apologia ao comunismo\", alterando a Lei Nº 7716 de 1989, onde prevê punição por \"fomento ao embate de classes sociais\" e do uso da foice e martelo. Também considera como grupos terroristas quem faz uso desses símbolos - tendo baseado esse trecho na \"Lei Antiterrorismo\" de 2016, aprovada por Dilma Rousseff. Em 2023, Arthur Lira (Progressistas) despachou o projeto como \"sujeita à apreciação do Plenário\"./nCom os argumentos apresentados, busco demonstrar que não pode haver espaço para abandono dos símbolos ou alteração radical infundada do nome do nosso partido. Contudo, desde os processos de racha que sofremos em relação ao limitado e antigo Comitê Central em meados de 2023, temos usado a sigla PCB-RR, indicando a contraposição que fizemos a fração academicista de orientação pequeno burguesa que estava na direção do partido. E isso já indica um caráter à esquerda que tivemos em relação ao bolorento e estagnado CC, onde as exigências da base militante buscaram a superação das limitações e a readequação dos nossos rumos para a construção da revolução brasileira. Logo, Reconstrução Revolucionária (RR) tem representado as aspirações da maioria dos militantes./nCompartilho aqui a proposta para alteração feita pela camarada B. na nossa etapa de célula/núcleo: nosso novo nome seria Partido Comunista Brasileiro Revolucionário (PCBR). Assim, incorporamos o \"revolucionário\" de nossas sigla provisória e destacamos nosso objetivo enquanto não abrimos mão das nossas origens./nDessa forma, alteraríamos o Artigo 1º do nosso Estatuto:/n\"Art. 1º O Partido Comunista Brasileiro Revolucionári (PCBR) reivindica criticamente todo o legado do movimento comunista nacional e internacional e entende a si mesmo como um partido marxista-leninista, instrumento da luta pela hegemonia do proletariado no rumo da revolução socialista.\"/nMas sendo historiador, venho dizer que já existiu, por um brevíssimo momento, um PCBR. Entre os anos de 1968 e 1970, com o aumento da repressão e após ser emitido o Ato Institucional Nº 5 - que legitimou a tortura, o fim do/nhabeas corpus/n, fechamento do congresso, a censura, a suspensão de direitos políticos, entre outros - foi formada uma nova dissidência dentro do Comitê Central do PCB, que decidiu aderir à luta armada durante a Ditadura Militar, tendo sido representada, principalmente, nas figuras de Mário Alves (brutalmente assassinado, sendo até hoje um desaparecido político), Apolônio de Carvalho e Jacob Gorender (intelectual que também foi preso e torturado)./nA existência de um anterior PCBR não indica que somos herdeiros diretos dessa organização e muito menos entramos em contradição já que nosso partido \"reivindica criticamente todo o legado do movimento comunista nacional e internacional\"./nE na nossa proposta, o segundo artigo também teria uma pequena alteração. Um acréscimo que traz destaque a outro elemento que nos caracteriza sendo parte essencial dos nossos símbolos: a cor vermelha. Assim ficaria com a alteração:/n\"Art. 2º Os símbolos que nos representam são a foice (simbolizando os trabalhadores rurais), o martelo (simbolizando o proletariado urbano) e a cor vermelha (simbolizando a luta e o sangue da classe trabalhadora).\"/nPropostos os acréscimos, tomei a liberdade de desenvolver a sugestão que está na capa dessa tribuna do que poderia ser a nova bandeira oficial do nosso partido./nEla possui fundo predominantemente vermelho, foice e martelo amarelos no centro, com design distinto da que utilizamos atualmente, e também está escrito em amarelo 1922, o ano da nossa fundação, logo abaixo. Rodeando a foice e martelo, está escrito com letras brancas \"Partido Comunista Brasileiro\" na parte superior e, na parte inferior, \"Revolucionário\" na cor preta. Separando as palavras há dois pequenos sóis amarelos com 12 raios cada, não só remetendo a estrela central do Sistema Solar, mas trazendo, de outra forma, o elemento da estrela como parte da simbologia das diferentes organizações comunistas ao redor do mundo que existem ou já existiram./nAs cores descritas acima são assim definidas no código hexadecimal:/nVermelho - #C4000/nAmarelo -#FD9400/nPreto - #000000/nBranco - #FFFFFF/nEsperamos que os camaradas de todo o país apreciem e façam suas considerações sobre essa proposta./n'}]\n"
     ]
    }
   ],
   "source": [
    "print(texts_in_jason)"
   ]
  },
  {
   "cell_type": "code",
   "execution_count": null,
   "id": "f00a650c",
   "metadata": {},
   "outputs": [],
   "source": []
  }
 ],
 "metadata": {
  "kernelspec": {
   "display_name": "Python 3 (ipykernel)",
   "language": "python",
   "name": "python3"
  },
  "language_info": {
   "codemirror_mode": {
    "name": "ipython",
    "version": 3
   },
   "file_extension": ".py",
   "mimetype": "text/x-python",
   "name": "python",
   "nbconvert_exporter": "python",
   "pygments_lexer": "ipython3",
   "version": "3.11.5"
  }
 },
 "nbformat": 4,
 "nbformat_minor": 5
}
