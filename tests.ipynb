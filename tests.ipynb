{
 "cells": [
  {
   "cell_type": "code",
   "execution_count": 1,
   "id": "eaaa9a3f",
   "metadata": {},
   "outputs": [],
   "source": [
    "import requests\n",
    "from bs4 import BeautifulSoup\n",
    "\n",
    "def prepare_links():\n",
    "    arq = open('Dados\\links.txt')\n",
    "    links = []\n",
    "    for line in arq.readlines():\n",
    "        line = line.replace('\\n','')\n",
    "        links.append(line)\n",
    "    links.pop(0)\n",
    "    return links\n",
    "\n"
   ]
  },
  {
   "cell_type": "code",
   "execution_count": 3,
   "id": "b8216d7d",
   "metadata": {},
   "outputs": [],
   "source": [
    "links = prepare_links()\n",
    "\n",
    "for link in links:\n",
    "    \n",
    "    response = requests.get(link)\n",
    "    if response.status_code == 200:\n",
    "        soup = BeautifulSoup(response.text)\n",
    "        tag = soup.section\n",
    "\n"
   ]
  },
  {
   "cell_type": "code",
   "execution_count": 11,
   "id": "2a578a45",
   "metadata": {},
   "outputs": [
    {
     "name": "stdout",
     "output_type": "stream",
     "text": [
      "P. Acácio\n"
     ]
    }
   ],
   "source": [
    "print(tag.strong.string)"
   ]
  },
  {
   "cell_type": "code",
   "execution_count": 7,
   "id": "d8d81187",
   "metadata": {},
   "outputs": [
    {
     "name": "stdout",
     "output_type": "stream",
     "text": [
      "Por \n",
      "<strong>P. Acácio</strong>\n",
      "P. Acácio\n",
      " para a \n",
      "<strong>Tribuna de Debates Preparatória do XVII Congresso Extraordinário.</strong>\n",
      "Tribuna de Debates Preparatória do XVII Congresso Extraordinário.\n"
     ]
    }
   ],
   "source": [
    "for chil in  tag.contents[1].descendants:\n",
    "    print(chil)"
   ]
  },
  {
   "cell_type": "code",
   "execution_count": null,
   "id": "f67ff398",
   "metadata": {},
   "outputs": [],
   "source": []
  }
 ],
 "metadata": {
  "kernelspec": {
   "display_name": "Python 3 (ipykernel)",
   "language": "python",
   "name": "python3"
  },
  "language_info": {
   "codemirror_mode": {
    "name": "ipython",
    "version": 3
   },
   "file_extension": ".py",
   "mimetype": "text/x-python",
   "name": "python",
   "nbconvert_exporter": "python",
   "pygments_lexer": "ipython3",
   "version": "3.11.5"
  }
 },
 "nbformat": 4,
 "nbformat_minor": 5
}
