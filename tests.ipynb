{
 "cells": [
  {
   "cell_type": "code",
   "execution_count": 1,
   "id": "eaaa9a3f",
   "metadata": {},
   "outputs": [],
   "source": [
    "import requests\n",
    "from bs4 import BeautifulSoup\n",
    "\n",
    "def prepare_links():\n",
    "    arq = open('Dados\\links.txt')\n",
    "    links = []\n",
    "    for line in arq.readlines():\n",
    "        line = line.replace('\\n','')\n",
    "        links.append(line)\n",
    "    links.pop(0)\n",
    "    return links\n",
    "\n",
    "def get_html(link):\n",
    "    while True:\n",
    "        try:\n",
    "            response = requests.get(link)\n",
    "            return response\n",
    "        except ConnectionError:\n",
    "            pass\n",
    "            \n",
    "    \n"
   ]
  },
  {
   "cell_type": "code",
   "execution_count": 2,
   "id": "b8216d7d",
   "metadata": {},
   "outputs": [
    {
     "data": {
      "text/plain": [
       "'for link in links:\\n    response = get_html(link)\\n    soup = BeautifulSoup(response.text)\\n    tag = soup.section\\n    name = tag.strong.string\\n    names.append(name)\\n'"
      ]
     },
     "execution_count": 2,
     "metadata": {},
     "output_type": "execute_result"
    }
   ],
   "source": [
    "links = prepare_links()\n",
    "names = []\n",
    "'''for link in links:\n",
    "    response = get_html(link)\n",
    "    soup = BeautifulSoup(response.text)\n",
    "    tag = soup.section\n",
    "    name = tag.strong.string\n",
    "    names.append(name)\n",
    "'''\n"
   ]
  },
  {
   "cell_type": "code",
   "execution_count": null,
   "id": "f67ff398",
   "metadata": {},
   "outputs": [],
   "source": []
  },
  {
   "cell_type": "code",
   "execution_count": 12,
   "id": "74a5b0ec",
   "metadata": {},
   "outputs": [],
   "source": [
    "#test = ''\n",
    "#for string in tag.stripped_strings:\n",
    "  #  test = test + '/n'+ string"
   ]
  },
  {
   "cell_type": "code",
   "execution_count": 19,
   "id": "a93eb6ce",
   "metadata": {},
   "outputs": [
    {
     "name": "stdout",
     "output_type": "stream",
     "text": [
      "<generator object PageElement.stripped_strings at 0x0000026E4E2F9BE0>\n"
     ]
    }
   ],
   "source": [
    "#print(tag.stripped_strings)"
   ]
  },
  {
   "cell_type": "code",
   "execution_count": 39,
   "id": "6845b864",
   "metadata": {},
   "outputs": [],
   "source": [
    "texts_in_jason = []\n",
    "for link in links:\n",
    "    response = get_html(link)\n",
    "    soup = BeautifulSoup(response.text)\n",
    "    tag = soup.section\n",
    "    count = 0\n",
    "    text = {'autor':0,\n",
    "           'content': ''}\n",
    "    for string in tag.stripped_strings:\n",
    "        if count == 1:\n",
    "            text['autor'] = string\n",
    "        elif count > 3:\n",
    "            text['content'] =text['content']+ string +'/n'\n",
    "        count+=1\n",
    "    texts_in_jason.append(text)\n",
    "        \n",
    "    \n"
   ]
  },
  {
   "cell_type": "code",
   "execution_count": null,
   "id": "4127bdf6",
   "metadata": {},
   "outputs": [],
   "source": []
  }
 ],
 "metadata": {
  "kernelspec": {
   "display_name": "Python 3 (ipykernel)",
   "language": "python",
   "name": "python3"
  },
  "language_info": {
   "codemirror_mode": {
    "name": "ipython",
    "version": 3
   },
   "file_extension": ".py",
   "mimetype": "text/x-python",
   "name": "python",
   "nbconvert_exporter": "python",
   "pygments_lexer": "ipython3",
   "version": "3.11.5"
  }
 },
 "nbformat": 4,
 "nbformat_minor": 5
}
